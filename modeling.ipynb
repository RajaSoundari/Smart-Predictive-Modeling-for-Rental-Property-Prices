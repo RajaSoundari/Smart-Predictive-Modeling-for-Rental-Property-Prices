{
  "nbformat": 4,
  "nbformat_minor": 0,
  "metadata": {
    "colab": {
      "provenance": []
    },
    "kernelspec": {
      "name": "python3",
      "display_name": "Python 3"
    },
    "language_info": {
      "name": "python"
    }
  },
  "cells": [
    {
      "cell_type": "code",
      "execution_count": null,
      "metadata": {
        "id": "3oJRfYm7lGq6"
      },
      "outputs": [],
      "source": [
        "import pandas as pd"
      ]
    },
    {
      "cell_type": "code",
      "source": [
        "df=pd.read_csv(\"/content/dfs.csv\")"
      ],
      "metadata": {
        "id": "qLO3F8JTlJqr"
      },
      "execution_count": null,
      "outputs": []
    },
    {
      "cell_type": "code",
      "source": [
        "pip install lazypredict"
      ],
      "metadata": {
        "id": "vLJIQAGWl0Jn"
      },
      "execution_count": null,
      "outputs": []
    },
    {
      "cell_type": "code",
      "source": [
        "import lazypredict"
      ],
      "metadata": {
        "id": "tyDRoNT0mCZt"
      },
      "execution_count": null,
      "outputs": []
    },
    {
      "cell_type": "code",
      "source": [
        "from sklearn.model_selection import train_test_split\n",
        "\n",
        "X= df.drop(\"rent\",axis=1)\n",
        "y=df[\"rent\"]\n",
        "\n",
        "X_train, X_test, y_train, y_test = train_test_split(X, y,test_size=.3,random_state =123)"
      ],
      "metadata": {
        "id": "e0J2AdwtmFya"
      },
      "execution_count": null,
      "outputs": []
    },
    {
      "cell_type": "code",
      "source": [
        "from lazypredict.Supervised import LazyRegressor\n",
        "\n",
        "regressor = LazyRegressor(verbose=0, ignore_warnings=True, custom_metric=None)\n",
        "models, predictions = regressor.fit(X_train, X_test, y_train, y_test)\n",
        "\n",
        "# Print the performance of each model\n",
        "print(models)"
      ],
      "metadata": {
        "id": "h-F12RiimLcd"
      },
      "execution_count": null,
      "outputs": []
    },
    {
      "cell_type": "code",
      "source": [
        "import lightgbm as lgb\n",
        "from sklearn.metrics import mean_squared_error\n",
        "from math import sqrt\n",
        "\n",
        "\n",
        "from sklearn.model_selection import cross_val_score\n",
        "\n",
        "# Using the best parameters from the previous LGBM model\n",
        "best_lgbm_params = {\n",
        "    'boosting_type': 'gbdt',\n",
        "    'learning_rate': 0.05,\n",
        "    'n_estimators': 300,\n",
        "    'num_leaves': 31\n",
        "}\n",
        "\n",
        "# Initialize LGBM with the best parameters and regularization\n",
        "model = lgb.LGBMRegressor(**best_lgbm_params, random_state=123, reg_alpha=0.1, reg_lambda=0.1)\n",
        "\n",
        "# Perform cross-validation to get the RMSE\n",
        "scores = cross_val_score(model, X_train, y_train, scoring='neg_mean_squared_error', cv=5)\n",
        "\n",
        "# Calculate the average RMSE across all folds\n",
        "rmse_reg = sqrt(-scores.mean())\n",
        "\n",
        "# Fit the model\n",
        "model.fit(X_train, y_train)\n",
        "\n",
        "# Predict on the test set\n",
        "y_pred_reg = model.predict(X_test)\n",
        "\n",
        "# Calculate the RMSE on the test set\n",
        "rmse_test_reg = sqrt(mean_squared_error(y_test, y_pred_reg))\n",
        "\n",
        "# Output the RMSE from cross-validation and the test set\n",
        "print('Cross-validated RMSE with regularization:', rmse_reg)\n",
        "print('Test set RMSE with regularization:', rmse_test_reg)"
      ],
      "metadata": {
        "colab": {
          "base_uri": "https://localhost:8080/"
        },
        "id": "nAJvooShmP8_",
        "outputId": "1aeb9317-d822-41c8-f165-6ee68f6492b3"
      },
      "execution_count": null,
      "outputs": [
        {
          "output_type": "stream",
          "name": "stdout",
          "text": [
            "[LightGBM] [Info] Auto-choosing row-wise multi-threading, the overhead of testing was 0.002100 seconds.\n",
            "You can set `force_row_wise=true` to remove the overhead.\n",
            "And if memory is not enough, you can set `force_col_wise=true`.\n",
            "[LightGBM] [Info] Total Bins 902\n",
            "[LightGBM] [Info] Number of data points in the train set: 10880, number of used features: 18\n",
            "[LightGBM] [Info] Start training from score 19124.431342\n",
            "[LightGBM] [Info] Auto-choosing row-wise multi-threading, the overhead of testing was 0.001824 seconds.\n",
            "You can set `force_row_wise=true` to remove the overhead.\n",
            "And if memory is not enough, you can set `force_col_wise=true`.\n",
            "[LightGBM] [Info] Total Bins 903\n",
            "[LightGBM] [Info] Number of data points in the train set: 10880, number of used features: 18\n",
            "[LightGBM] [Info] Start training from score 19182.322610\n",
            "[LightGBM] [Info] Auto-choosing row-wise multi-threading, the overhead of testing was 0.002069 seconds.\n",
            "You can set `force_row_wise=true` to remove the overhead.\n",
            "And if memory is not enough, you can set `force_col_wise=true`.\n",
            "[LightGBM] [Info] Total Bins 902\n",
            "[LightGBM] [Info] Number of data points in the train set: 10880, number of used features: 18\n",
            "[LightGBM] [Info] Start training from score 19094.714522\n",
            "[LightGBM] [Info] Auto-choosing row-wise multi-threading, the overhead of testing was 0.001413 seconds.\n",
            "You can set `force_row_wise=true` to remove the overhead.\n",
            "And if memory is not enough, you can set `force_col_wise=true`.\n",
            "[LightGBM] [Info] Total Bins 904\n",
            "[LightGBM] [Info] Number of data points in the train set: 10880, number of used features: 18\n",
            "[LightGBM] [Info] Start training from score 19186.317371\n",
            "[LightGBM] [Info] Auto-choosing row-wise multi-threading, the overhead of testing was 0.001383 seconds.\n",
            "You can set `force_row_wise=true` to remove the overhead.\n",
            "And if memory is not enough, you can set `force_col_wise=true`.\n",
            "[LightGBM] [Info] Total Bins 900\n",
            "[LightGBM] [Info] Number of data points in the train set: 10880, number of used features: 18\n",
            "[LightGBM] [Info] Start training from score 19129.369301\n",
            "[LightGBM] [Info] Auto-choosing row-wise multi-threading, the overhead of testing was 0.001719 seconds.\n",
            "You can set `force_row_wise=true` to remove the overhead.\n",
            "And if memory is not enough, you can set `force_col_wise=true`.\n",
            "[LightGBM] [Info] Total Bins 909\n",
            "[LightGBM] [Info] Number of data points in the train set: 13600, number of used features: 18\n",
            "[LightGBM] [Info] Start training from score 19143.431029\n",
            "Cross-validated RMSE with regularization: 3659.870703331728\n",
            "Test set RMSE with regularization: 3544.005176472708\n"
          ]
        }
      ]
    },
    {
      "cell_type": "code",
      "source": [
        "from sklearn.metrics import r2_score\n",
        "\n",
        "r2 = r2_score(y_test, y_pred_reg)\n",
        "\n",
        "print(f\"R-squared score: {r2}\")"
      ],
      "metadata": {
        "colab": {
          "base_uri": "https://localhost:8080/"
        },
        "id": "fIhzh15nzir3",
        "outputId": "23405c51-bf9d-4a8a-cbc0-9c0b3c57012d"
      },
      "execution_count": null,
      "outputs": [
        {
          "output_type": "stream",
          "name": "stdout",
          "text": [
            "R-squared score: 0.8215602140973817\n"
          ]
        }
      ]
    },
    {
      "cell_type": "code",
      "source": [
        "import pickle\n",
        "\n",
        "with open('model.pkl', 'wb') as file:\n",
        "    pickle.dump(model, file)"
      ],
      "metadata": {
        "id": "3nYKVy3czuNh"
      },
      "execution_count": null,
      "outputs": []
    },
    {
      "cell_type": "code",
      "source": [],
      "metadata": {
        "id": "iT7ekoS8LgDL"
      },
      "execution_count": null,
      "outputs": []
    }
  ]
}